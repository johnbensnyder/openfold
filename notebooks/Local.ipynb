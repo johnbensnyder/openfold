{
 "cells": [
  {
   "cell_type": "code",
   "execution_count": 1,
   "id": "35e1a5c1-adc3-4854-b9d9-5c678f14b560",
   "metadata": {},
   "outputs": [],
   "source": [
    "#@markdown ### Enter the amino acid sequence to fold ⬇️\n",
    "sequence = 'MAAHKGAEHHHKAAEHHEQAAKHHHAAAEHHEKGEHEQAAHHADTAYAHHKHAEEHAAQAAKHDAEHHAPKPH'  #@param {type:\"string\"}\n",
    "\n",
    "#@markdown ### Configure the model ⬇️\n",
    "\n",
    "weight_set = 'OpenFold' #@param [\"OpenFold\", \"AlphaFold\"]\n",
    "relax_prediction = True #@param {type:\"boolean\"}\n",
    "\n",
    "# Remove all whitespaces, tabs and end lines; upper-case\n",
    "sequence = sequence.translate(str.maketrans('', '', ' \\n\\t')).upper()\n",
    "aatypes = set('ACDEFGHIKLMNPQRSTVWY')  # 20 standard aatypes\n"
   ]
  },
  {
   "cell_type": "code",
   "execution_count": 2,
   "id": "fa7a08ec-5f71-4ece-b354-aaf6f9aec776",
   "metadata": {},
   "outputs": [],
   "source": [
    "from IPython.utils import io\n",
    "import os\n",
    "import subprocess\n",
    "import tqdm.notebook\n",
    "\n",
    "TQDM_BAR_FORMAT = '{l_bar}{bar}| {n_fmt}/{total_fmt} [elapsed: {elapsed} remaining: {remaining}]'\n",
    "\n",
    "# Define constants\n",
    "GIT_REPO='https://github.com/aqlaboratory/openfold'\n",
    "ALPHAFOLD_PARAM_SOURCE_URL = 'https://storage.googleapis.com/alphafold/alphafold_params_2022-01-19.tar'\n",
    "OPENFOLD_PARAMS_DIR = './openfold/openfold/resources/openfold_params'\n",
    "ALPHAFOLD_PARAMS_DIR = './openfold/openfold/resources/params'\n",
    "ALPHAFOLD_PARAMS_PATH = os.path.join(\n",
    "  ALPHAFOLD_PARAMS_DIR, os.path.basename(ALPHAFOLD_PARAM_SOURCE_URL)\n",
    ")\n"
   ]
  },
  {
   "cell_type": "code",
   "execution_count": 3,
   "id": "427c1a9b-5664-4a05-a77e-31ca17a29454",
   "metadata": {},
   "outputs": [],
   "source": [
    "import sys\n",
    "sys.path.append('..')\n",
    "\n",
    "import os\n",
    "import shutil\n",
    "\n",
    "from urllib import request\n",
    "from concurrent import futures\n",
    "import json\n",
    "from matplotlib import gridspec\n",
    "import matplotlib.pyplot as plt\n",
    "import numpy as np\n",
    "import py3Dmol\n",
    "import torch\n",
    "\n",
    "# A filthy hack to avoid slow Linear layer initialization\n",
    "import openfold.model.primitives\n",
    "\n",
    "def __default_linear_init__(self, *args, **kwargs):\n",
    "    return torch.nn.Linear.__init__(\n",
    "      self, \n",
    "      *args[:2], \n",
    "      **{k:v for k,v in kwargs.items() if k == \"bias\"}\n",
    "    )\n",
    "\n",
    "openfold.model.primitives.Linear.__init__ = __default_linear_init__\n",
    "\n",
    "from openfold import config\n",
    "from openfold.data import feature_pipeline\n",
    "from openfold.data import parsers\n",
    "from openfold.data import data_pipeline\n",
    "from openfold.data.tools import jackhmmer\n",
    "from openfold.model import model\n",
    "from openfold.np import protein\n",
    "from openfold.np.relax import relax\n",
    "from openfold.np.relax import utils\n",
    "from openfold.utils.import_weights import import_jax_weights_\n",
    "from openfold.utils.tensor_utils import tensor_tree_map\n",
    "\n",
    "from IPython import display\n",
    "from ipywidgets import GridspecLayout\n",
    "from ipywidgets import Output"
   ]
  },
  {
   "cell_type": "code",
   "execution_count": 4,
   "id": "c22c905f-d029-4404-a2e5-90e78fb47bed",
   "metadata": {},
   "outputs": [],
   "source": [
    "shutil.rmtree('target.fasta', ignore_errors=True)\n",
    "with open('target.fasta', 'wt') as f:\n",
    "  f.write(f'>query\\n{sequence}')"
   ]
  },
  {
   "cell_type": "code",
   "execution_count": 15,
   "id": "98a7e058-d84a-48e7-aa6a-ba402ee2d2e6",
   "metadata": {},
   "outputs": [],
   "source": [
    "jackhmmer_binary_path = os.path.expanduser('~/anaconda3/envs/openfold_venv/bin/jackhmmer')\n",
    "dbs = []\n"
   ]
  },
  {
   "cell_type": "code",
   "execution_count": null,
   "id": "ea8e3cd8-b4f9-4a57-a3db-51f758f743dd",
   "metadata": {},
   "outputs": [
    {
     "name": "stderr",
     "output_type": "stream",
     "text": [
      "Searching uniref90:   2%|████▏                                                                                                                                                                                                       | 3/147 [elapsed: 07:06 remaining: 6:24:51]"
     ]
    }
   ],
   "source": [
    "num_jackhmmer_chunks = {'uniref90': 59, 'smallbfd': 17, 'mgnify': 71}\n",
    "total_jackhmmer_chunks = sum(num_jackhmmer_chunks.values())\n",
    "with tqdm.tqdm(total=total_jackhmmer_chunks, bar_format=TQDM_BAR_FORMAT) as pbar:\n",
    "  def jackhmmer_chunk_callback(i):\n",
    "    pbar.update(n=1)\n",
    "\n",
    "  pbar.set_description('Searching uniref90')\n",
    "  jackhmmer_uniref90_runner = jackhmmer.Jackhmmer(\n",
    "      binary_path=jackhmmer_binary_path,\n",
    "      database_path=f'https://storage.googleapis.com/alphafold-colab/latest/uniref90_2021_03.fasta',\n",
    "      get_tblout=True,\n",
    "      num_streamed_chunks=num_jackhmmer_chunks['uniref90'],\n",
    "      streaming_callback=jackhmmer_chunk_callback,\n",
    "      z_value=135301051)\n",
    "  dbs.append(('uniref90', jackhmmer_uniref90_runner.query('target.fasta')))\n",
    "\n",
    "  pbar.set_description('Searching smallbfd')\n",
    "  jackhmmer_smallbfd_runner = jackhmmer.Jackhmmer(\n",
    "      binary_path=jackhmmer_binary_path,\n",
    "      database_path=f'https://storage.googleapis.com/alphafold-colab/latest/bfd-first_non_consensus_sequences.fasta',\n",
    "      get_tblout=True,\n",
    "      num_streamed_chunks=num_jackhmmer_chunks['smallbfd'],\n",
    "      streaming_callback=jackhmmer_chunk_callback,\n",
    "      z_value=65984053)\n",
    "  dbs.append(('smallbfd', jackhmmer_smallbfd_runner.query('target.fasta')))\n",
    "\n",
    "  pbar.set_description('Searching mgnify')\n",
    "  jackhmmer_mgnify_runner = jackhmmer.Jackhmmer(\n",
    "      binary_path=jackhmmer_binary_path,\n",
    "      database_path=f'https://storage.googleapis.com/alphafold-colab/latest/mgy_clusters_2019_05.fasta',\n",
    "      get_tblout=True,\n",
    "      num_streamed_chunks=num_jackhmmer_chunks['mgnify'],\n",
    "      streaming_callback=jackhmmer_chunk_callback,\n",
    "      z_value=304820129)\n",
    "  dbs.append(('mgnify', jackhmmer_mgnify_runner.query('target.fasta')))\n"
   ]
  },
  {
   "cell_type": "code",
   "execution_count": null,
   "id": "022b0bbf-1cd8-491b-8a9e-b8a7f008679f",
   "metadata": {},
   "outputs": [],
   "source": []
  }
 ],
 "metadata": {
  "kernelspec": {
   "display_name": "Python [conda env:openfold_venv]",
   "language": "python",
   "name": "conda-env-openfold_venv-py"
  },
  "language_info": {
   "codemirror_mode": {
    "name": "ipython",
    "version": 3
   },
   "file_extension": ".py",
   "mimetype": "text/x-python",
   "name": "python",
   "nbconvert_exporter": "python",
   "pygments_lexer": "ipython3",
   "version": "3.9.13"
  }
 },
 "nbformat": 4,
 "nbformat_minor": 5
}
